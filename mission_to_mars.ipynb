{
 "cells": [
  {
   "cell_type": "markdown",
   "metadata": {},
   "source": [
    "# Web Scraping - Mission to Mars"
   ]
  },
  {
   "cell_type": "code",
   "execution_count": 68,
   "metadata": {
    "collapsed": true
   },
   "outputs": [],
   "source": [
    "import pandas as pd\n",
    "from splinter import Browser\n",
    "from bs4 import BeautifulSoup\n",
    "import requests"
   ]
  },
  {
   "cell_type": "markdown",
   "metadata": {},
   "source": [
    "## NASA Mars News"
   ]
  },
  {
   "cell_type": "code",
   "execution_count": 74,
   "metadata": {
    "scrolled": false
   },
   "outputs": [
    {
     "name": "stdout",
     "output_type": "stream",
     "text": [
      "Seven Ways Mars InSight is Different\n",
      "NASA has a long and successful track record at Mars. Since 1965, it has flown by, orbited, landed and roved across the surface of the Red Planet. What can InSight -- planned for launch in May -- do that hasn’t been done before?\n"
     ]
    }
   ],
   "source": [
    "# visit nasa for news of mars\n",
    "browser = Browser('chrome', headless=False)\n",
    "url_news = 'https://mars.nasa.gov/news/'\n",
    "browser.visit(url_news)\n",
    "\n",
    "# create a soup object from the html\n",
    "html_news = browser.html\n",
    "soup_news = BeautifulSoup(html_news, 'html.parser')\n",
    "\n",
    "div1 = soup_news.find('div', class_='content_title')\n",
    "news_title = div1.find('a').text\n",
    "news_p = soup_news.find('div', class_='article_teaser_body').text\n",
    "\n",
    "print(news_title)\n",
    "print(news_p)"
   ]
  },
  {
   "cell_type": "markdown",
   "metadata": {},
   "source": [
    "## JPL Mars Space Images - Featured Image"
   ]
  },
  {
   "cell_type": "code",
   "execution_count": 76,
   "metadata": {},
   "outputs": [
    {
     "name": "stdout",
     "output_type": "stream",
     "text": [
      "featured_image_url = https://www.jpl.nasa.gov/spaceimages/images/mediumsize/PIA19046_ip.jpg\n"
     ]
    }
   ],
   "source": [
    "# visit JPL Mars space images to get a big image\n",
    "browser = Browser('chrome', headless=False)\n",
    "url_img = 'https://www.jpl.nasa.gov/spaceimages/?search=&category=Mars'\n",
    "browser.visit(url_img)\n",
    "browser.click_link_by_partial_text('FULL IMAGE')\n",
    "\n",
    "# create a soup object from the html\n",
    "html_img = browser.html\n",
    "soup_img = BeautifulSoup(html_img, 'html.parser')\n",
    "\n",
    "home = soup_img.find('article', class_=\"carousel_item\")\n",
    "link = home.a['data-fancybox-href']\n",
    "featured_image_url = 'https://www.jpl.nasa.gov' + link\n",
    "\n",
    "print('featured_image_url =', featured_image_url)"
   ]
  },
  {
   "cell_type": "markdown",
   "metadata": {},
   "source": [
    "## Mars Weather"
   ]
  },
  {
   "cell_type": "code",
   "execution_count": 77,
   "metadata": {
    "scrolled": false
   },
   "outputs": [
    {
     "name": "stdout",
     "output_type": "stream",
     "text": [
      "mars_weather = Sol 1974 (Feb 24, 2018), Sunny, high -13C/8F, low -77C/-106F, pressure at 7.29 hPa, daylight 05:37-17:25\n"
     ]
    }
   ],
   "source": [
    "# visit twitter to get Mars Weather\n",
    "url_weather = 'https://twitter.com/marswxreport?lang=en'\n",
    "html_weather = requests.get(url_weather)\n",
    "soup_weather = BeautifulSoup(html_weather.text, 'html.parser')\n",
    "\n",
    "tweet = soup_weather.find('div', class_='stream')\n",
    "mars_weather = tweet.find(text=\"Mars Weather\").findNext('p').text\n",
    "\n",
    "print('mars_weather =', mars_weather)"
   ]
  },
  {
   "cell_type": "markdown",
   "metadata": {},
   "source": [
    "## Mars Facts"
   ]
  },
  {
   "cell_type": "code",
   "execution_count": 79,
   "metadata": {},
   "outputs": [
    {
     "data": {
      "text/html": [
       "<div>\n",
       "<style>\n",
       "    .dataframe thead tr:only-child th {\n",
       "        text-align: right;\n",
       "    }\n",
       "\n",
       "    .dataframe thead th {\n",
       "        text-align: left;\n",
       "    }\n",
       "\n",
       "    .dataframe tbody tr th {\n",
       "        vertical-align: top;\n",
       "    }\n",
       "</style>\n",
       "<table border=\"1\" class=\"dataframe\">\n",
       "  <thead>\n",
       "    <tr style=\"text-align: right;\">\n",
       "      <th></th>\n",
       "      <th>Value</th>\n",
       "    </tr>\n",
       "    <tr>\n",
       "      <th>Description</th>\n",
       "      <th></th>\n",
       "    </tr>\n",
       "  </thead>\n",
       "  <tbody>\n",
       "    <tr>\n",
       "      <th>Equatorial Diameter:</th>\n",
       "      <td>6,792 km</td>\n",
       "    </tr>\n",
       "    <tr>\n",
       "      <th>Polar Diameter:</th>\n",
       "      <td>6,752 km</td>\n",
       "    </tr>\n",
       "    <tr>\n",
       "      <th>Mass:</th>\n",
       "      <td>6.42 x 10^23 kg (10.7% Earth)</td>\n",
       "    </tr>\n",
       "    <tr>\n",
       "      <th>Moons:</th>\n",
       "      <td>2 (Phobos &amp; Deimos)</td>\n",
       "    </tr>\n",
       "    <tr>\n",
       "      <th>Orbit Distance:</th>\n",
       "      <td>227,943,824 km (1.52 AU)</td>\n",
       "    </tr>\n",
       "    <tr>\n",
       "      <th>Orbit Period:</th>\n",
       "      <td>687 days (1.9 years)</td>\n",
       "    </tr>\n",
       "    <tr>\n",
       "      <th>Surface Temperature:</th>\n",
       "      <td>-153 to 20 °C</td>\n",
       "    </tr>\n",
       "    <tr>\n",
       "      <th>First Record:</th>\n",
       "      <td>2nd millennium BC</td>\n",
       "    </tr>\n",
       "    <tr>\n",
       "      <th>Recorded By:</th>\n",
       "      <td>Egyptian astronomers</td>\n",
       "    </tr>\n",
       "  </tbody>\n",
       "</table>\n",
       "</div>"
      ],
      "text/plain": [
       "                                              Value\n",
       "Description                                        \n",
       "Equatorial Diameter:                       6,792 km\n",
       "Polar Diameter:                            6,752 km\n",
       "Mass:                 6.42 x 10^23 kg (10.7% Earth)\n",
       "Moons:                          2 (Phobos & Deimos)\n",
       "Orbit Distance:            227,943,824 km (1.52 AU)\n",
       "Orbit Period:                  687 days (1.9 years)\n",
       "Surface Temperature:                  -153 to 20 °C\n",
       "First Record:                     2nd millennium BC\n",
       "Recorded By:                   Egyptian astronomers"
      ]
     },
     "execution_count": 79,
     "metadata": {},
     "output_type": "execute_result"
    }
   ],
   "source": [
    "# visit Mars facts and create a table by pandas\n",
    "url_facts = 'https://space-facts.com/mars/'\n",
    "facts_table = pd.read_html(url_facts)\n",
    "df = facts_table[0]\n",
    "df.columns = ['Description', 'Value']\n",
    "df.set_index(['Description'], inplace = True)\n",
    "df.to_html('Mars_df.html')\n",
    "df"
   ]
  },
  {
   "cell_type": "code",
   "execution_count": 88,
   "metadata": {
    "scrolled": true
   },
   "outputs": [
    {
     "name": "stdout",
     "output_type": "stream",
     "text": [
      "['Description', 'Value']\n",
      "[{'Equatorial Diameter': '6,792 km', 'Polar Diameter': '6,752 km', 'Mass': '6.42 x 10^23 kg (10.7% Earth)', 'Moons': '2 (Phobos & Deimos)', 'Orbit Distance': '227,943,824 km (1.52 AU)', 'Orbit Period': '687 days (1.9 years)', 'Surface Temperature': '-153 to 20 °C', 'First Record': '2nd millennium BC', 'Recorded By': 'Egyptian astronomers'}]\n"
     ]
    }
   ],
   "source": [
    "# Generate a html table from dataframe\n",
    "html_table = df.to_html()\n",
    "html_table.replace('\\n','')\n",
    "\n",
    "soup_table = BeautifulSoup(open('mars_df.html'),'html.parser')\n",
    "\n",
    "# create a dictionaries for all cells to create a table in html\n",
    "mars_facts = {}\n",
    "mars_list = []\n",
    "ths = [x.text.strip(':') for x in soup_table.table('th') if x.text != '']\n",
    "column_list = ths[0:2]\n",
    "column_list.reverse()\n",
    "th = ths[2:]\n",
    "td = [y.text for y in soup_table.table('td')]\n",
    "mars_facts = dict([(i, j) for i, j in zip(th, td)])\n",
    "mars_list.append(mars_facts)\n",
    "\n",
    "print(column_list)\n",
    "print(mars_list)"
   ]
  },
  {
   "cell_type": "markdown",
   "metadata": {},
   "source": [
    "## Mars Hemisperes"
   ]
  },
  {
   "cell_type": "code",
   "execution_count": 100,
   "metadata": {},
   "outputs": [
    {
     "name": "stdout",
     "output_type": "stream",
     "text": [
      "hemisphere_image_urls = [{'title': 'Cerberus Hemisphere Enhanced', 'img_url': 'https://astrogeology.usgs.gov/cache/images/cfa62af2557222a02478f1fcd781d445_cerberus_enhanced.tif_full.jpg'}, {'title': 'Schiaparelli Hemisphere Enhanced', 'img_url': 'https://astrogeology.usgs.gov/cache/images/3cdd1cbf5e0813bba925c9030d13b62e_schiaparelli_enhanced.tif_full.jpg'}, {'title': 'Syrtis Major Hemisphere Enhanced', 'img_url': 'https://astrogeology.usgs.gov/cache/images/ae209b4e408bb6c3e67b6af38168cf28_syrtis_major_enhanced.tif_full.jpg'}, {'title': 'Valles Marineris Hemisphere Enhanced', 'img_url': 'https://astrogeology.usgs.gov/cache/images/7cf2da4bf549ed01c17f206327be4db7_valles_marineris_enhanced.tif_full.jpg'}]\n"
     ]
    }
   ],
   "source": [
    "# visit Mars hemisperes to get the urls of pictures\n",
    "browser = Browser('chrome', headless=False)\n",
    "url_hemisperes = 'https://astrogeology.usgs.gov/search/results?q=hemisphere+enhanced&k1=target&v1=Mars'\n",
    "browser.visit(url_hemisperes)\n",
    "\n",
    "html_hemisperes = browser.html\n",
    "soup_hem = BeautifulSoup(html_hemisperes, 'html.parser')\n",
    "jpg_links = soup_hem.find_all('div', class_='description')\n",
    "\n",
    "# click in all pictures pages to get the url\n",
    "Mars_Hemisperes = []\n",
    "for link in jpg_links:\n",
    "    info = {}\n",
    "    h3 = link.find('h3').text\n",
    "    info['title'] = h3\n",
    "    browser.click_link_by_partial_text(h3)\n",
    "    html2 = browser.html\n",
    "    soup2 = BeautifulSoup(html2, 'html.parser')\n",
    "    url = soup2.find('img', class_='wide-image')['src']\n",
    "    info['img_url'] = 'https://astrogeology.usgs.gov' + url\n",
    "    Mars_Hemisperes.append(info)\n",
    "    browser.click_link_by_partial_text('Back')\n",
    "    \n",
    "print('hemisphere_image_urls =', Mars_Hemisperes)"
   ]
  },
  {
   "cell_type": "code",
   "execution_count": null,
   "metadata": {
    "collapsed": true
   },
   "outputs": [],
   "source": []
  }
 ],
 "metadata": {
  "kernelspec": {
   "display_name": "Python 3",
   "language": "python",
   "name": "python3"
  },
  "language_info": {
   "codemirror_mode": {
    "name": "ipython",
    "version": 3
   },
   "file_extension": ".py",
   "mimetype": "text/x-python",
   "name": "python",
   "nbconvert_exporter": "python",
   "pygments_lexer": "ipython3",
   "version": "3.6.2"
  }
 },
 "nbformat": 4,
 "nbformat_minor": 2
}
